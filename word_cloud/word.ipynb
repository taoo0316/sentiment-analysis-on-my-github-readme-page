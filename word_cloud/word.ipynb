{
 "cells": [
  {
   "cell_type": "code",
   "execution_count": 13,
   "id": "1f4a5ad6",
   "metadata": {},
   "outputs": [],
   "source": [
    "import stylecloud\n",
    "\n",
    "stylecloud.gen_stylecloud(file_path='/Users/zwt2000/Desktop/nlp exercises/intro.txt')"
   ]
  },
  {
   "cell_type": "code",
   "execution_count": 14,
   "id": "71839290",
   "metadata": {},
   "outputs": [],
   "source": [
    "import stylecloud\n",
    "\n",
    "stylecloud.gen_stylecloud(file_path='/Users/zwt2000/Desktop/nlp exercises/intro.txt',\n",
    "                          icon_name='fas fa-dog',\n",
    "                          palette='colorbrewer.diverging.Spectral_11',\n",
    "                          background_color='black',\n",
    "                          gradient='horizontal')"
   ]
  }
 ],
 "metadata": {
  "kernelspec": {
   "display_name": "Python 3",
   "language": "python",
   "name": "python3"
  },
  "language_info": {
   "codemirror_mode": {
    "name": "ipython",
    "version": 3
   },
   "file_extension": ".py",
   "mimetype": "text/x-python",
   "name": "python",
   "nbconvert_exporter": "python",
   "pygments_lexer": "ipython3",
   "version": "3.8.8"
  }
 },
 "nbformat": 4,
 "nbformat_minor": 5
}
