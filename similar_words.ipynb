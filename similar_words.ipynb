{
 "cells": [
  {
   "cell_type": "code",
   "execution_count": 2,
   "id": "4f387b65",
   "metadata": {},
   "outputs": [
    {
     "name": "stdout",
     "output_type": "stream",
     "text": [
      "[==================================================] 100.0% 1662.8/1662.8MB downloaded\n"
     ]
    },
    {
     "data": {
      "text/plain": [
       "[('incredible', 0.9054000973701477),\n",
       " ('awesome', 0.8282865285873413),\n",
       " ('unbelievable', 0.8201264142990112),\n",
       " ('fantastic', 0.778986930847168),\n",
       " ('phenomenal', 0.7642048001289368),\n",
       " ('astounding', 0.7347068786621094),\n",
       " ('wonderful', 0.7263179421424866),\n",
       " ('unbelieveable', 0.7165080904960632),\n",
       " ('remarkable', 0.7095627188682556),\n",
       " ('marvelous', 0.7015583515167236)]"
      ]
     },
     "execution_count": 2,
     "metadata": {},
     "output_type": "execute_result"
    }
   ],
   "source": [
    "# Import gensim api\n",
    "import gensim.downloader as api\n",
    "\n",
    "# Load the pretrained google news word2vec model\n",
    "word2vec_model300 = api.load('word2vec-google-news-300')\n",
    "\n",
    "\n",
    "# Using most_similar() function\n",
    "word2vec_model300.most_similar('amazing')"
   ]
  },
  {
   "cell_type": "code",
   "execution_count": 3,
   "id": "06002fe3",
   "metadata": {},
   "outputs": [
    {
     "data": {
      "text/plain": [
       "[('cultural_zeitgeist', 0.6418060064315796),\n",
       " ('Zeitgeist', 0.5536586046218872),\n",
       " ('sensibility', 0.552371084690094),\n",
       " ('pop_culture', 0.5485475063323975),\n",
       " ('counterculture', 0.510157585144043),\n",
       " ('postmodern', 0.5080280303955078),\n",
       " ('vampire_craze', 0.5021921396255493),\n",
       " ('hipsterism', 0.5002347230911255),\n",
       " ('hipness', 0.4991176128387451),\n",
       " ('collective_consciousness', 0.4936177134513855)]"
      ]
     },
     "execution_count": 3,
     "metadata": {},
     "output_type": "execute_result"
    }
   ],
   "source": [
    "word2vec_model300.most_similar('zeitgeist')"
   ]
  },
  {
   "cell_type": "code",
   "execution_count": 4,
   "id": "876b626e",
   "metadata": {},
   "outputs": [
    {
     "data": {
      "text/plain": [
       "[('Schadenfreude', 0.7643515467643738),\n",
       " ('smugness', 0.5606836080551147),\n",
       " ('glee', 0.5439953804016113),\n",
       " ('mirth', 0.5346464514732361),\n",
       " ('snarkiness', 0.5278706550598145),\n",
       " ('loathing', 0.5159898400306702),\n",
       " ('snark', 0.509365439414978),\n",
       " ('hilarity', 0.508971095085144),\n",
       " ('indignation', 0.5049904584884644),\n",
       " ('gloating', 0.5031137466430664)]"
      ]
     },
     "execution_count": 4,
     "metadata": {},
     "output_type": "execute_result"
    }
   ],
   "source": [
    "word2vec_model300.most_similar('schadenfreude')"
   ]
  },
  {
   "cell_type": "code",
   "execution_count": 6,
   "id": "15d2b9b0",
   "metadata": {},
   "outputs": [
    {
     "data": {
      "text/plain": [
       "[('Harvard', 0.7817695140838623),\n",
       " ('Cornell', 0.7190003395080566),\n",
       " ('Tufts', 0.6966863870620728),\n",
       " ('Dartmouth', 0.684341549873352),\n",
       " ('Princeton', 0.6813100576400757),\n",
       " ('Ivy_League', 0.670812726020813),\n",
       " ('Bowdoin', 0.6607435345649719),\n",
       " ('Brandeis', 0.6505937576293945),\n",
       " ('NYU', 0.6483615636825562),\n",
       " ('UMass', 0.6449452638626099)]"
      ]
     },
     "execution_count": 6,
     "metadata": {},
     "output_type": "execute_result"
    }
   ],
   "source": [
    "word2vec_model300.most_similar('Yale')"
   ]
  },
  {
   "cell_type": "code",
   "execution_count": 7,
   "id": "13575c2a",
   "metadata": {},
   "outputs": [
    {
     "data": {
      "text/plain": [
       "[('Shih_Choon_Fong', 0.6136404275894165),\n",
       " ('Mandy_Telford', 0.5927532315254211),\n",
       " ('Gemma_Tumelty', 0.558519184589386),\n",
       " ('NUS_AIM', 0.5493361949920654),\n",
       " ('Wes_Streeting', 0.5404383540153503),\n",
       " ('Register_nelsonmerchancely1@juno.com', 0.5159499049186707),\n",
       " ('Streeting', 0.5073899030685425),\n",
       " ('TSX_NUS_AIM', 0.4982619881629944),\n",
       " ('NZUSA', 0.4964864253997803),\n",
       " ('Students_NUS', 0.486946165561676)]"
      ]
     },
     "execution_count": 7,
     "metadata": {},
     "output_type": "execute_result"
    }
   ],
   "source": [
    "word2vec_model300.most_similar('NUS')"
   ]
  },
  {
   "cell_type": "code",
   "execution_count": 8,
   "id": "7b3ba486",
   "metadata": {},
   "outputs": [
    {
     "data": {
      "text/plain": [
       "[('Hong_Kong', 0.7355004549026489),\n",
       " ('Malaysia', 0.7280135154724121),\n",
       " ('Kuala_Lumpur', 0.6947176456451416),\n",
       " ('Singaporean', 0.6802256107330322),\n",
       " ('SIngapore', 0.665448784828186),\n",
       " (\"S'pore\", 0.6562162637710571),\n",
       " ('Malaysian', 0.6307142972946167),\n",
       " ('Inkster_Miyazato', 0.6058071851730347),\n",
       " ('Exchange_Ltd._S##.SG', 0.602165937423706),\n",
       " ('GP_Pte_Ltd', 0.600523829460144)]"
      ]
     },
     "execution_count": 8,
     "metadata": {},
     "output_type": "execute_result"
    }
   ],
   "source": [
    "word2vec_model300.most_similar('Singapore')"
   ]
  }
 ],
 "metadata": {
  "kernelspec": {
   "display_name": "Python 3",
   "language": "python",
   "name": "python3"
  },
  "language_info": {
   "codemirror_mode": {
    "name": "ipython",
    "version": 3
   },
   "file_extension": ".py",
   "mimetype": "text/x-python",
   "name": "python",
   "nbconvert_exporter": "python",
   "pygments_lexer": "ipython3",
   "version": "3.8.8"
  }
 },
 "nbformat": 4,
 "nbformat_minor": 5
}
