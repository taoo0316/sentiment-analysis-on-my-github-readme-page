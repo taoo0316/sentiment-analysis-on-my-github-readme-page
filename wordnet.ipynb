{
 "cells": [
  {
   "cell_type": "code",
   "execution_count": 1,
   "id": "0b0d25a1",
   "metadata": {},
   "outputs": [
    {
     "data": {
      "text/plain": [
       "[Synset('cat.n.01'),\n",
       " Synset('guy.n.01'),\n",
       " Synset('cat.n.03'),\n",
       " Synset('kat.n.01'),\n",
       " Synset('cat-o'-nine-tails.n.01'),\n",
       " Synset('caterpillar.n.02'),\n",
       " Synset('big_cat.n.01'),\n",
       " Synset('computerized_tomography.n.01'),\n",
       " Synset('cat.v.01'),\n",
       " Synset('vomit.v.01')]"
      ]
     },
     "execution_count": 1,
     "metadata": {},
     "output_type": "execute_result"
    }
   ],
   "source": [
    "import nltk\n",
    "from nltk.corpus import wordnet as wn \n",
    "wn.synsets('cat')"
   ]
  },
  {
   "cell_type": "code",
   "execution_count": 2,
   "id": "aa902122",
   "metadata": {},
   "outputs": [
    {
     "data": {
      "text/plain": [
       "[Synset('cat.v.01'), Synset('vomit.v.01')]"
      ]
     },
     "execution_count": 2,
     "metadata": {},
     "output_type": "execute_result"
    }
   ],
   "source": [
    "import nltk\n",
    "from nltk.corpus import wordnet as wn\n",
    "wn.synsets('cat', pos=wn.VERB)"
   ]
  },
  {
   "cell_type": "code",
   "execution_count": 4,
   "id": "f67e22cf",
   "metadata": {},
   "outputs": [
    {
     "data": {
      "text/plain": [
       "[Synset('cat.n.01'),\n",
       " Synset('guy.n.01'),\n",
       " Synset('cat.n.03'),\n",
       " Synset('kat.n.01'),\n",
       " Synset('cat-o'-nine-tails.n.01'),\n",
       " Synset('caterpillar.n.02'),\n",
       " Synset('big_cat.n.01'),\n",
       " Synset('computerized_tomography.n.01')]"
      ]
     },
     "execution_count": 4,
     "metadata": {},
     "output_type": "execute_result"
    }
   ],
   "source": [
    "import nltk\n",
    "from nltk.corpus import wordnet as wn\n",
    "wn.synsets('cat', pos=wn.NOUN)"
   ]
  },
  {
   "cell_type": "code",
   "execution_count": 5,
   "id": "c072445e",
   "metadata": {},
   "outputs": [
    {
     "data": {
      "text/plain": [
       "'an informal term for a youth or man'"
      ]
     },
     "execution_count": 5,
     "metadata": {},
     "output_type": "execute_result"
    }
   ],
   "source": [
    "synset_array = wn.synsets('cat')\n",
    "synset_array[1].definition()"
   ]
  },
  {
   "cell_type": "code",
   "execution_count": 6,
   "id": "b7a93332",
   "metadata": {},
   "outputs": [
    {
     "data": {
      "text/plain": [
       "'a spiteful woman gossip'"
      ]
     },
     "execution_count": 6,
     "metadata": {},
     "output_type": "execute_result"
    }
   ],
   "source": [
    "synset_array = wn.synsets('cat')\n",
    "synset_array[2].definition()"
   ]
  },
  {
   "cell_type": "code",
   "execution_count": 7,
   "id": "ec1f8888",
   "metadata": {},
   "outputs": [
    {
     "data": {
      "text/plain": [
       "'English philanthropist who made contributions to a college in Connecticut that was renamed in his honor (1649-1721)'"
      ]
     },
     "execution_count": 7,
     "metadata": {},
     "output_type": "execute_result"
    }
   ],
   "source": [
    "synset_array = wn.synsets('YALE')\n",
    "synset_array[1].definition()"
   ]
  },
  {
   "cell_type": "code",
   "execution_count": 8,
   "id": "56fe9935",
   "metadata": {},
   "outputs": [
    {
     "data": {
      "text/plain": [
       "'a country in southeastern Asia on the island of Singapore; achieved independence from Malaysia in 1965'"
      ]
     },
     "execution_count": 8,
     "metadata": {},
     "output_type": "execute_result"
    }
   ],
   "source": [
    "synset_array = wn.synsets(\"Singapore\")\n",
    "synset_array[1].definition()"
   ]
  },
  {
   "cell_type": "code",
   "execution_count": 9,
   "id": "827fcab4",
   "metadata": {},
   "outputs": [
    {
     "data": {
      "text/plain": [
       "[Synset('dissemble.v.02'),\n",
       " Synset('mask.v.02'),\n",
       " Synset('disguise.v.01'),\n",
       " Synset('mask.v.04'),\n",
       " Synset('mask.v.05')]"
      ]
     },
     "execution_count": 9,
     "metadata": {},
     "output_type": "execute_result"
    }
   ],
   "source": [
    "import nltk\n",
    "from nltk.corpus import wordnet as wn\n",
    "wn.synsets('mask', pos=wn.VERB)"
   ]
  },
  {
   "cell_type": "code",
   "execution_count": 10,
   "id": "9f30f562",
   "metadata": {},
   "outputs": [
    {
     "data": {
      "text/plain": [
       "[Synset('mask.n.01'),\n",
       " Synset('mask.n.02'),\n",
       " Synset('masquerade.n.01'),\n",
       " Synset('mask.n.04')]"
      ]
     },
     "execution_count": 10,
     "metadata": {},
     "output_type": "execute_result"
    }
   ],
   "source": [
    "import nltk\n",
    "from nltk.corpus import wordnet as wn\n",
    "wn.synsets('mask', pos=wn.NOUN)"
   ]
  }
 ],
 "metadata": {
  "kernelspec": {
   "display_name": "Python 3",
   "language": "python",
   "name": "python3"
  },
  "language_info": {
   "codemirror_mode": {
    "name": "ipython",
    "version": 3
   },
   "file_extension": ".py",
   "mimetype": "text/x-python",
   "name": "python",
   "nbconvert_exporter": "python",
   "pygments_lexer": "ipython3",
   "version": "3.8.8"
  }
 },
 "nbformat": 4,
 "nbformat_minor": 5
}
