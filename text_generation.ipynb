{
 "cells": [
  {
   "cell_type": "code",
   "execution_count": 2,
   "id": "5b386f6e",
   "metadata": {},
   "outputs": [],
   "source": [
    "starting=\"I am from Yale-NUS College.\""
   ]
  },
  {
   "cell_type": "code",
   "execution_count": 3,
   "id": "f389b616",
   "metadata": {},
   "outputs": [
    {
     "name": "stderr",
     "output_type": "stream",
     "text": [
      "No model was supplied, defaulted to gpt2 (https://huggingface.co/gpt2)\n",
      "Setting `pad_token_id` to `eos_token_id`:50256 for open-end generation.\n"
     ]
    },
    {
     "data": {
      "text/plain": [
       "[{'generated_text': 'I am from Yale-NUS College. I am an English-Speaking Bilingualist who teaches myself English at least twice a year. In order to take advantage of my English skills, I have a few things. I always write down important facts'}]"
      ]
     },
     "execution_count": 3,
     "metadata": {},
     "output_type": "execute_result"
    }
   ],
   "source": [
    "# Import pipeline from transformers package\n",
    "from transformers import pipeline\n",
    "\n",
    "# Get the task-specific pipeline\n",
    "my_model=pipeline(task=\"text-generation\")\n",
    "\n",
    "# Pass the starting sequence as input to generate text\n",
    "my_model(starting)"
   ]
  },
  {
   "cell_type": "code",
   "execution_count": 4,
   "id": "1818fdfa",
   "metadata": {},
   "outputs": [],
   "source": [
    "starting_new = \"I am a computer science student and a budding data scientist. I am always looking to grow my technical skillsets and learn more about the world of technology. I am also a student a Yale-NUS College, the leading liberal arts college in Asia. There, I was able to take classes across disciplines and academic traditions, which helped me become a more methodical thinker, learner and communicator.\""
   ]
  },
  {
   "cell_type": "code",
   "execution_count": 6,
   "id": "43ad144f",
   "metadata": {},
   "outputs": [
    {
     "name": "stderr",
     "output_type": "stream",
     "text": [
      "No model was supplied, defaulted to gpt2 (https://huggingface.co/gpt2)\n",
      "Setting `pad_token_id` to `eos_token_id`:50256 for open-end generation.\n"
     ]
    },
    {
     "data": {
      "text/plain": [
       "[{'generated_text': 'I am a computer science student and a budding data scientist. I am always looking to grow my technical skillsets and learn more about the world of technology. I am also a student a Yale-NUS College, the leading liberal arts college in Asia. There, I was able to take classes across disciplines and academic traditions, which helped me become a more methodical thinker, learner and communicator. My interest was in technology, which I find fascinating when asked, \"Do we need to know'}]"
      ]
     },
     "execution_count": 6,
     "metadata": {},
     "output_type": "execute_result"
    }
   ],
   "source": [
    "# Import pipeline from transformers package\n",
    "from transformers import pipeline\n",
    "\n",
    "# Get the task-specific pipeline\n",
    "my_model_new=pipeline(task=\"text-generation\",max_length = 100)\n",
    "\n",
    "# Pass the starting sequence as input to generate text\n",
    "my_model_new(starting_new)"
   ]
  }
 ],
 "metadata": {
  "kernelspec": {
   "display_name": "Python 3",
   "language": "python",
   "name": "python3"
  },
  "language_info": {
   "codemirror_mode": {
    "name": "ipython",
    "version": 3
   },
   "file_extension": ".py",
   "mimetype": "text/x-python",
   "name": "python",
   "nbconvert_exporter": "python",
   "pygments_lexer": "ipython3",
   "version": "3.8.8"
  }
 },
 "nbformat": 4,
 "nbformat_minor": 5
}
