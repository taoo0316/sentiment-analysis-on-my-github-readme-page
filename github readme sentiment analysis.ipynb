{
 "cells": [
  {
   "cell_type": "code",
   "execution_count": 2,
   "id": "95443c47",
   "metadata": {},
   "outputs": [],
   "source": [
    "import nltk\n",
    "from nltk.sentiment import SentimentIntensityAnalyzer"
   ]
  },
  {
   "cell_type": "code",
   "execution_count": 7,
   "id": "8ec533ad",
   "metadata": {},
   "outputs": [
    {
     "data": {
      "text/plain": [
       "{'neg': 0.0, 'neu': 0.9, 'pos': 0.1, 'compound': 0.8716}"
      ]
     },
     "execution_count": 7,
     "metadata": {},
     "output_type": "execute_result"
    }
   ],
   "source": [
    "sia = SentimentIntensityAnalyzer()\n",
    "sia.polarity_scores(\"Hi there I am a computer science student and a budding data scientist. I am always looking to grow my technical skillsets and learn more about the world of technology.  I am also a student a Yale-NUS College, the leading liberal arts college in Asia. There, I was able to take classes across disciplines and academic traditions, which helped me become a more methodical thinker, learner and communicator. How to reach me: zhu.wentao[at]u[dot]yale-nus[dot]edu[dot]sg. Check out what projects I have been up to! Also, here is a photo that represents an ideal life I'd love to lead. You can probably tell what my favourite colour is from my profile picture and the photo above:D.\")"
   ]
  },
  {
   "cell_type": "code",
   "execution_count": 8,
   "id": "f1d311d4",
   "metadata": {},
   "outputs": [],
   "source": [
    "# wow the score is overall very positive. Not bad news!"
   ]
  },
  {
   "cell_type": "code",
   "execution_count": 9,
   "id": "eb8f9919",
   "metadata": {},
   "outputs": [],
   "source": [
    "text = \"Hi there I am a computer science student and a budding data scientist. I am always looking to grow my technical skillsets and learn more about the world of technology.  I am also a student a Yale-NUS College, the leading liberal arts college in Asia. There, I was able to take classes across disciplines and academic traditions, which helped me become a more methodical thinker, learner and communicator. How to reach me: zhu.wentao[at]u[dot]yale-nus[dot]edu[dot]sg. Check out what projects I have been up to! Also, here is a photo that represents an ideal life I'd love to lead. You can probably tell what my favourite colour is from my profile picture and the photo above:D.\""
   ]
  },
  {
   "cell_type": "code",
   "execution_count": 11,
   "id": "491e1627",
   "metadata": {},
   "outputs": [],
   "source": [
    "words = nltk.word_tokenize(text)\n",
    "fd = nltk.FreqDist(words)"
   ]
  },
  {
   "cell_type": "code",
   "execution_count": 13,
   "id": "e65255ce",
   "metadata": {},
   "outputs": [
    {
     "data": {
      "text/plain": [
       "[('.', 7),\n",
       " ('I', 6),\n",
       " ('a', 6),\n",
       " ('and', 5),\n",
       " ('to', 5),\n",
       " (',', 5),\n",
       " ('[', 4),\n",
       " (']', 4),\n",
       " ('am', 3),\n",
       " ('my', 3)]"
      ]
     },
     "execution_count": 13,
     "metadata": {},
     "output_type": "execute_result"
    }
   ],
   "source": [
    "fd.most_common(10)"
   ]
  },
  {
   "cell_type": "code",
   "execution_count": 14,
   "id": "d3ecbfb6",
   "metadata": {},
   "outputs": [
    {
     "name": "stdout",
     "output_type": "stream",
     "text": [
      "  .   I   a and  to   ,   [   ]  am  my \n",
      "  7   6   6   5   5   5   4   4   3   3 \n"
     ]
    }
   ],
   "source": [
    "fd.tabulate(10)"
   ]
  },
  {
   "cell_type": "markdown",
   "id": "8590a617",
   "metadata": {},
   "source": [
    "This is just a primer that get me started me the various tools available in nltk. For larger projects, one can refer to https://realpython.com/python-nltk-sentiment-analysis/ for more information, espeically in processing larger chunks of texts."
   ]
  },
  {
   "cell_type": "code",
   "execution_count": null,
   "id": "09aa641c",
   "metadata": {},
   "outputs": [],
   "source": []
  }
 ],
 "metadata": {
  "kernelspec": {
   "display_name": "Python 3",
   "language": "python",
   "name": "python3"
  },
  "language_info": {
   "codemirror_mode": {
    "name": "ipython",
    "version": 3
   },
   "file_extension": ".py",
   "mimetype": "text/x-python",
   "name": "python",
   "nbconvert_exporter": "python",
   "pygments_lexer": "ipython3",
   "version": "3.8.8"
  }
 },
 "nbformat": 4,
 "nbformat_minor": 5
}
