{
 "cells": [
  {
   "cell_type": "code",
   "execution_count": 1,
   "id": "bd36a458",
   "metadata": {},
   "outputs": [
    {
     "name": "stdout",
     "output_type": "stream",
     "text": [
      "-143.752927505328 -42.195808377690 (S1 (S (S (NP (PRP I)) (VP (VBP am) (NP (NP (DT a) (NN student)) (PP (IN at) (NP (NNP Yale-NUS) (NNP College)))))) (, ,) (CC and) (S (NP (PRP I)) (VP (VBP study) (NP (NN computer) (NN science)))) (. .)))\n",
      "-143.752927505328 -42.195808377690 (S1 (S (S (NP (PRP I)) (VP (VBP am) (NP (NP (DT a) (NN student)) (PP (IN at) (NP (NNP Yale-NUS) (NNP College)))))) (, ,) (CC and) (S (NP (PRP I)) (VP (VBP study) (NP (NN computer) (NN science)))) (. .)))\n"
     ]
    }
   ],
   "source": [
    "from nltk.data import find\n",
    "from bllipparser import RerankingParser\n",
    "\n",
    "model_dir = find('models/bllip_wsj_no_aux').path\n",
    "parser = RerankingParser.from_unified_model_dir(model_dir)\n",
    "\n",
    "best = parser.parse(\"I am a student at Yale-NUS College, and I study computer science.\")\n",
    "\n",
    "print(best.get_reranker_best())\n",
    "print(best.get_parser_best())\n"
   ]
  },
  {
   "cell_type": "code",
   "execution_count": 4,
   "id": "15bd5968",
   "metadata": {},
   "outputs": [
    {
     "name": "stdout",
     "output_type": "stream",
     "text": [
      "After Extracting\n",
      " (S\n",
      "  I/PRP\n",
      "  (VP (V am/VBP) (NP a/DT student/NN))\n",
      "  (P at/IN)\n",
      "  Yale-NUS/NNP\n",
      "  College/NNP\n",
      "  ,/,\n",
      "  and/CC\n",
      "  I/PRP\n",
      "  (VP (V study/VBP) (NP computer/NN) (NP science/NN))\n",
      "  ./.)\n"
     ]
    },
    {
     "name": "stderr",
     "output_type": "stream",
     "text": [
      "[nltk_data] Downloading package punkt to /Users/zwt2000/nltk_data...\n",
      "[nltk_data]   Package punkt is already up-to-date!\n",
      "[nltk_data] Downloading package averaged_perceptron_tagger to\n",
      "[nltk_data]     /Users/zwt2000/nltk_data...\n",
      "[nltk_data]   Package averaged_perceptron_tagger is already up-to-\n",
      "[nltk_data]       date!\n"
     ]
    }
   ],
   "source": [
    "# Import required libraries\n",
    "import nltk\n",
    "nltk.download('punkt')\n",
    "nltk.download('averaged_perceptron_tagger')\n",
    "from nltk import pos_tag, word_tokenize, RegexpParser\n",
    "\n",
    "# Example text\n",
    "sample_text = \"I am a student at Yale-NUS College, and I study computer science.\"\n",
    "\n",
    "# Find all parts of speech in above sentence\n",
    "tagged = pos_tag(word_tokenize(sample_text))\n",
    "\n",
    "#Extract all parts of speech from any text\n",
    "chunker = RegexpParser(\"\"\"\n",
    "                    NP: {<DT>?<JJ>*<NN>} #To extract Noun Phrases\n",
    "                    P: {<IN>}            #To extract Prepositions\n",
    "                    V: {<V.*>}           #To extract Verbs\n",
    "                    PP: {<p> <NP>}       #To extract Prepositional Phrases\n",
    "                    VP: {<V> <NP|PP>*}   #To extract Verb Phrases\n",
    "                    \"\"\")\n",
    "\n",
    "# Print all parts of speech in above sentence\n",
    "output = chunker.parse(tagged)\n",
    "print(\"After Extracting\\n\", output)"
   ]
  },
  {
   "cell_type": "code",
   "execution_count": 5,
   "id": "ca6bcb07",
   "metadata": {},
   "outputs": [],
   "source": [
    "output.draw()"
   ]
  }
 ],
 "metadata": {
  "kernelspec": {
   "display_name": "Python 3",
   "language": "python",
   "name": "python3"
  },
  "language_info": {
   "codemirror_mode": {
    "name": "ipython",
    "version": 3
   },
   "file_extension": ".py",
   "mimetype": "text/x-python",
   "name": "python",
   "nbconvert_exporter": "python",
   "pygments_lexer": "ipython3",
   "version": "3.8.8"
  }
 },
 "nbformat": 4,
 "nbformat_minor": 5
}
