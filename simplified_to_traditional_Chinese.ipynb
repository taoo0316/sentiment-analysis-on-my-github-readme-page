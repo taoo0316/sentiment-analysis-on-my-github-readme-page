{
 "cells": [
  {
   "cell_type": "code",
   "execution_count": 4,
   "id": "ce0976ee",
   "metadata": {},
   "outputs": [
    {
     "name": "stdout",
     "output_type": "stream",
     "text": [
      "我相信馬克思主義。我要上天。這是啥\n"
     ]
    }
   ],
   "source": [
    "# -*- coding: utf-8 -*-\n",
    "from opencc import OpenCC\n",
    "\n",
    "cc = OpenCC('s2hk')\n",
    "text = '我相信马克思主义。我要上天。这是啥'\n",
    "\n",
    "print(cc.convert(text))"
   ]
  },
  {
   "cell_type": "code",
   "execution_count": 5,
   "id": "b422be6b",
   "metadata": {},
   "outputs": [
    {
     "name": "stdout",
     "output_type": "stream",
     "text": [
      "我相信马克思主义。我要上天。这是啥\n"
     ]
    }
   ],
   "source": [
    "# -*- coding: utf-8 -*-\n",
    "from opencc import OpenCC\n",
    "\n",
    "cc = OpenCC('tw2sp')\n",
    "text = '我相信馬克思主義。我要上天。這是啥'\n",
    "\n",
    "print(cc.convert(text))"
   ]
  }
 ],
 "metadata": {
  "kernelspec": {
   "display_name": "Python 3",
   "language": "python",
   "name": "python3"
  },
  "language_info": {
   "codemirror_mode": {
    "name": "ipython",
    "version": 3
   },
   "file_extension": ".py",
   "mimetype": "text/x-python",
   "name": "python",
   "nbconvert_exporter": "python",
   "pygments_lexer": "ipython3",
   "version": "3.8.8"
  }
 },
 "nbformat": 4,
 "nbformat_minor": 5
}
